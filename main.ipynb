{
 "cells": [
  {
   "cell_type": "markdown",
   "metadata": {},
   "source": [
    "# reading the video "
   ]
  },
  {
   "cell_type": "code",
   "execution_count": 1,
   "metadata": {},
   "outputs": [],
   "source": [
    "import cv2"
   ]
  },
  {
   "cell_type": "code",
   "execution_count": 2,
   "metadata": {},
   "outputs": [],
   "source": [
    "# # path to the video\n",
    "# video_path = 'C:/Habib University/OneDrive - Habib University/Co-curricular/Conure AI&ML Internship/Project-Car-RegistrationNumber-Detection-and-Recognition/sample_video_1.mjpg'\n",
    "\n",
    "# capture = cv2.VideoCapture(video_path)\n",
    "\n",
    "# # initial the frame number of the video frames \n",
    "# frameNr = 0\n",
    " \n",
    "# while (True): # run till all video frames are capturedd \n",
    " \n",
    "#     flag, frame = capture.read()\n",
    " \n",
    "#     if flag: # check if frame is present\n",
    "#         # extraction path for the frames\n",
    "#         frame_path = f'C:/Habib University/OneDrive - Habib University/Co-curricular/Conure AI&ML Internship/Project-Car-RegistrationNumber-Detection-and-Recognition/output/frame_{frameNr}.jpg'\n",
    "        \n",
    "#         cv2.imwrite(frame_path, frame)\n",
    " \n",
    "#     else:\n",
    "#         break # exist the loop when frames are finished\n",
    " \n",
    "#     frameNr = frameNr+1 # increment in frame number\n",
    "\n",
    "# print(frameNr) \n",
    "# capture.release()\n"
   ]
  },
  {
   "cell_type": "code",
   "execution_count": 3,
   "metadata": {},
   "outputs": [],
   "source": [
    "import numpy as np"
   ]
  },
  {
   "cell_type": "code",
   "execution_count": 4,
   "metadata": {},
   "outputs": [],
   "source": [
    "import matplotlib.pyplot as plt\n",
    "%matplotlib inline"
   ]
  },
  {
   "cell_type": "code",
   "execution_count": 5,
   "metadata": {},
   "outputs": [],
   "source": [
    "import easyocr"
   ]
  },
  {
   "cell_type": "code",
   "execution_count": 1,
   "metadata": {},
   "outputs": [],
   "source": [
    "# import cv2\n",
    "\n",
    "\n"
   ]
  },
  {
   "cell_type": "code",
   "execution_count": 2,
   "metadata": {},
   "outputs": [],
   "source": [
    "test_image = cv2.imread('frame_289.jpg')"
   ]
  }
 ],
 "metadata": {
  "interpreter": {
   "hash": "1c612ca8ef3987bc75488f6b259f55536f1aabbdf9be719e769e9fc57bdd3750"
  },
  "kernelspec": {
   "display_name": "Python 3.8.12 64-bit ('base': conda)",
   "language": "python",
   "name": "python3"
  },
  "language_info": {
   "codemirror_mode": {
    "name": "ipython",
    "version": 3
   },
   "file_extension": ".py",
   "mimetype": "text/x-python",
   "name": "python",
   "nbconvert_exporter": "python",
   "pygments_lexer": "ipython3",
   "version": "3.8.12"
  },
  "orig_nbformat": 4
 },
 "nbformat": 4,
 "nbformat_minor": 2
}
